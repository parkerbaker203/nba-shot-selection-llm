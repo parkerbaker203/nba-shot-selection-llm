{
 "cells": [
  {
   "cell_type": "markdown",
   "id": "8d763b7a",
   "metadata": {},
   "source": [
    "Transformation pipeline testing environment"
   ]
  },
  {
   "cell_type": "code",
   "execution_count": 2,
   "id": "5ecf3f79",
   "metadata": {},
   "outputs": [],
   "source": [
    "import pandas as pd\n",
    "import ingest as ing"
   ]
  },
  {
   "cell_type": "code",
   "execution_count": null,
   "id": "f9b02b47",
   "metadata": {},
   "outputs": [
    {
     "ename": "AttributeError",
     "evalue": "module 'ingest' has no attribute 'ingest_data'",
     "output_type": "error",
     "traceback": [
      "\u001b[1;31m---------------------------------------------------------------------------\u001b[0m",
      "\u001b[1;31mAttributeError\u001b[0m                            Traceback (most recent call last)",
      "Cell \u001b[1;32mIn[3], line 2\u001b[0m\n\u001b[0;32m      1\u001b[0m \u001b[38;5;66;03m# Ingestion pipeline\u001b[39;00m\n\u001b[1;32m----> 2\u001b[0m \u001b[43ming\u001b[49m\u001b[38;5;241;43m.\u001b[39;49m\u001b[43mingest_data\u001b[49m(team_name\u001b[38;5;241m=\u001b[39m\u001b[38;5;124m\"\u001b[39m\u001b[38;5;124mNew York Knicks\u001b[39m\u001b[38;5;124m\"\u001b[39m, num_players\u001b[38;5;241m=\u001b[39m\u001b[38;5;241m5\u001b[39m, season\u001b[38;5;241m=\u001b[39m\u001b[38;5;124m\"\u001b[39m\u001b[38;5;124m2024-25\u001b[39m\u001b[38;5;124m\"\u001b[39m, season_type\u001b[38;5;241m=\u001b[39m\u001b[38;5;124m\"\u001b[39m\u001b[38;5;124mPlayoffs\u001b[39m\u001b[38;5;124m\"\u001b[39m)\n",
      "\u001b[1;31mAttributeError\u001b[0m: module 'ingest' has no attribute 'ingest_data'"
     ]
    }
   ],
   "source": [
    "# Ingestion pipeline\n",
    "knicks_shot_data = ing.ingest_data(team_name=\"New York Knicks\", num_players=5, season=\"2024-25\", season_type=\"Playoffs\")"
   ]
  }
 ],
 "metadata": {
  "kernelspec": {
   "display_name": "Python 3",
   "language": "python",
   "name": "python3"
  },
  "language_info": {
   "codemirror_mode": {
    "name": "ipython",
    "version": 3
   },
   "file_extension": ".py",
   "mimetype": "text/x-python",
   "name": "python",
   "nbconvert_exporter": "python",
   "pygments_lexer": "ipython3",
   "version": "3.11.7"
  }
 },
 "nbformat": 4,
 "nbformat_minor": 5
}
