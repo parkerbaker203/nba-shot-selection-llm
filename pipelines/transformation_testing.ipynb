{
 "cells": [
  {
   "cell_type": "markdown",
   "id": "8d763b7a",
   "metadata": {},
   "source": [
    "Transformation pipeline testing environment"
   ]
  },
  {
   "cell_type": "code",
   "execution_count": 1,
   "id": "5ecf3f79",
   "metadata": {},
   "outputs": [],
   "source": [
    "import pandas as pd\n",
    "import ingest as ing"
   ]
  },
  {
   "cell_type": "code",
   "execution_count": 2,
   "id": "f9b02b47",
   "metadata": {},
   "outputs": [
    {
     "name": "stdout",
     "output_type": "stream",
     "text": [
      "Collected data for 0042400306\n",
      "Collected data for 0042400305\n",
      "Collected data for 0042400304\n",
      "Collected data for 0042400303\n",
      "Collected data for 0042400302\n",
      "Collected data for 0042400301\n",
      "Collected data for 0042400216\n",
      "Collected data for 0042400215\n",
      "Collected data for 0042400214\n",
      "Collected data for 0042400213\n",
      "Collected data for 0042400212\n",
      "Collected data for 0042400211\n",
      "Collected data for 0042400126\n",
      "Collected data for 0042400125\n",
      "Collected data for 0042400124\n",
      "Collected data for 0042400123\n",
      "Collected data for 0042400122\n",
      "Collected data for 0042400121\n"
     ]
    }
   ],
   "source": [
    "# Ingestion pipeline\n",
    "knicks_shot_data = ing.ingest_data(team_name=\"New York Knicks\", num_players=5, season=\"2024-25\", season_type=\"Playoffs\")"
   ]
  },
  {
   "cell_type": "code",
   "execution_count": null,
   "id": "43e60d8d",
   "metadata": {},
   "outputs": [],
   "source": []
  }
 ],
 "metadata": {
  "kernelspec": {
   "display_name": "Python 3",
   "language": "python",
   "name": "python3"
  },
  "language_info": {
   "codemirror_mode": {
    "name": "ipython",
    "version": 3
   },
   "file_extension": ".py",
   "mimetype": "text/x-python",
   "name": "python",
   "nbconvert_exporter": "python",
   "pygments_lexer": "ipython3",
   "version": "3.11.7"
  }
 },
 "nbformat": 4,
 "nbformat_minor": 5
}
